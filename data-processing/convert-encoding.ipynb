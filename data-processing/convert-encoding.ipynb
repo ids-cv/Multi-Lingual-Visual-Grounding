{
 "cells": [
  {
   "cell_type": "code",
   "execution_count": null,
   "metadata": {},
   "outputs": [],
   "source": [
    "\n",
    "path1 = \"/Users/xah/web/xahlee_info/python/xxtest\"\n",
    "path2 = \"/Users/xah/web/xahlee_info/python/xxtest2\"\n",
    "\n",
    "coding1 = \"utf-8\"\n",
    "coding2 = \"gb18030\"\n",
    "\n",
    "f= open(path1, 'r', encoding=coding1)\n",
    "content= f.read()\n",
    "f.close()\n",
    "f= open(path2, 'w', encoding=coding2)\n",
    "f.write(content)\n",
    "f.close()\n",
    "\n",
    "print(\"done\")"
   ]
  },
  {
   "cell_type": "code",
   "execution_count": 2,
   "metadata": {},
   "outputs": [],
   "source": [
    "with open(\"encoding-test1.txt\", \"r\", encoding=\"ascii\") as f1:\n",
    "    content = f1.read()\n",
    "with open(\"encoding-test2.txt\", \"w\", encoding=\"utf8\") as f:\n",
    "    f.write(content)"
   ]
  },
  {
   "cell_type": "code",
   "execution_count": null,
   "metadata": {},
   "outputs": [],
   "source": []
  }
 ],
 "metadata": {
  "kernelspec": {
   "display_name": "Python 3",
   "language": "python",
   "name": "python3"
  },
  "language_info": {
   "codemirror_mode": {
    "name": "ipython",
    "version": 3
   },
   "file_extension": ".py",
   "mimetype": "text/x-python",
   "name": "python",
   "nbconvert_exporter": "python",
   "pygments_lexer": "ipython3",
   "version": "3.7.3"
  }
 },
 "nbformat": 4,
 "nbformat_minor": 2
}
